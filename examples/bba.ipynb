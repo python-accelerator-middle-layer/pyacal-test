{
 "cells": [
  {
   "cell_type": "code",
   "execution_count": 1,
   "metadata": {
    "ExecuteTime": {
     "end_time": "2024-07-02T02:38:21.966491Z",
     "start_time": "2024-07-02T02:38:20.706692Z"
    }
   },
   "outputs": [],
   "source": [
    "import numpy as np\n",
    "import matplotlib.pyplot as plt\n",
    "import pyacal\n",
    "from pyacal.experiments.bba import BBA\n",
    "\n",
    "# from siriuspy.clientconfigdb import ConfigDBClient\n"
   ]
  },
  {
   "cell_type": "code",
   "execution_count": 2,
   "metadata": {
    "ExecuteTime": {
     "end_time": "2024-07-02T02:38:28.004567Z",
     "start_time": "2024-07-02T02:38:25.024254Z"
    }
   },
   "outputs": [],
   "source": [
    "pyacal.set_facility('sirius')\n"
   ]
  },
  {
   "cell_type": "code",
   "execution_count": 3,
   "metadata": {
    "ExecuteTime": {
     "end_time": "2024-07-02T02:38:28.950509Z",
     "start_time": "2024-07-02T02:38:28.929262Z"
    }
   },
   "outputs": [],
   "source": [
    "# reference orbit for correction and position scan is required\n",
    "\n",
    "# client = ConfigDBClient(config_type='si_orbit')\n",
    "# orb = client.get_config_value('ref_orb')\n",
    "\n",
    "# reforbx = np.array(orb[\"x\"]) * 1e3  # [um] -> [nm]\n",
    "# reforby = np.array(orb[\"y\"]) * 1e3  # [um] -> [nm]\n"
   ]
  },
  {
   "cell_type": "code",
   "execution_count": 4,
   "metadata": {
    "ExecuteTime": {
     "end_time": "2024-07-02T02:38:30.585427Z",
     "start_time": "2024-07-02T02:38:30.306112Z"
    }
   },
   "outputs": [],
   "source": [
    "# orbit response matrix to correct and scan position is required\n",
    "\n",
    "# client = ConfigDBClient(config_type='si_orbcorr_respm')\n",
    "# respm = np.array(client.get_config_value('ref_respmat'))\n",
    "# respm *= 1e3 # [um/urad] -> [nm/urad]\n"
   ]
  },
  {
   "cell_type": "code",
   "execution_count": 5,
   "metadata": {
    "ExecuteTime": {
     "end_time": "2024-07-02T02:38:32.389921Z",
     "start_time": "2024-07-02T02:38:31.408453Z"
    }
   },
   "outputs": [],
   "source": [
    "bba = BBA(accelerator='SI', isonline=True)\n",
    "sofb = bba.devices[\"sofb\"]\n"
   ]
  },
  {
   "cell_type": "code",
   "execution_count": 6,
   "metadata": {
    "ExecuteTime": {
     "end_time": "2024-07-02T02:38:33.917889Z",
     "start_time": "2024-07-02T02:38:33.138532Z"
    }
   },
   "outputs": [
    {
     "name": "stdout",
     "output_type": "stream",
     "text": [
      "Params\n",
      "    deltaorbx [um]           = 100000.000  \n",
      "    deltaorby [um]           = 100000.000  \n",
      "    meas_nrsteps             =         8  \n",
      "    quad_deltacurr [A]       =     0.020  \n",
      "    quad_maxcurr [A]         =   100.000  \n",
      "    quad_mincurr [A]         =  -100.000  \n",
      "    quad_nrcycles            =     1.000  \n",
      "    wait_correctors [s]      =     0.300  \n",
      "    wait_quadrupole [s]      =     0.300  \n",
      "    timeout_wait_orbit [s]   =     3.000  (get orbit)\n",
      "    sofb_nrpoints            =        20  \n",
      "    sofb_maxcorriter         =         5  \n",
      "    sofb_maxorberr [um]      =     5.000  \n",
      "    \n",
      "Connected?  True\n",
      "\n",
      "             BPM                  Quad         Xc [um] Yc [um]\n",
      "000:       BPM01M2               QS01M2        97602.1 137476.7\n",
      "\n"
     ]
    }
   ],
   "source": [
    "bba.params.deltaorbx = 100_000  # [nm] use appropriated units!\n",
    "bba.params.deltaorby = 100_000  # [nm] use appropriated units!\n",
    "bba.params.meas_nrsteps = 8\n",
    "bba.params.quad_deltacurr = 0.020\n",
    "bba.params.quad_maxcurr = 100.000\n",
    "bba.params.quad_mincurr = -100.000\n",
    "bba.params.quad_nrcycles = 1\n",
    "bba.params.wait_correctors = 0.300  # [s]\n",
    "bba.params.wait_quadrupole = 0.300  # [s]\n",
    "bba.params.timeout_wait_orbit = 3.000  # [s]\n",
    "bba.params.sofb_nrpoints = 20\n",
    "bba.params.sofb_maxcorriter = 5\n",
    "bba.params.sofb_maxorberr = 5_000  # [nm]\n",
    "\n",
    "bba.bpms2dobba = bba.data[\"bpmnames\"][:1]\n",
    "\n",
    "# set reference orbit as center of position scans\n",
    "bba.data[\"scancenterx\"] = reforbx\n",
    "bba.data[\"scancentery\"] = reforby\n",
    "\n",
    "# set reference orbit for orbit correction\n",
    "sofb.ref_orbx = reforbx\n",
    "sofb.ref_orby = reforby\n",
    "\n",
    "# set orbit response matrix\n",
    "sofb.respmat = respm\n",
    "\n",
    "print(bba)\n"
   ]
  },
  {
   "cell_type": "code",
   "execution_count": 7,
   "metadata": {
    "ExecuteTime": {
     "end_time": "2024-07-02T02:38:36.603912Z",
     "start_time": "2024-07-02T02:38:36.592463Z"
    }
   },
   "outputs": [
    {
     "name": "stdout",
     "output_type": "stream",
     "text": [
      "Starting measurement at 2024-07-01 23h38m36s\n",
      "\n",
      "Correcting Orbit...Ok!\n",
      "\n",
      "001/001\n",
      "23h38m51s --> Doing BBA for BPM 000: BPM01M2\n",
      "cycling QS01M2: . Ok!\n",
      "    01/09 --> orbit corr: "
     ]
    },
    {
     "name": "stderr",
     "output_type": "stream",
     "text": [
      "Exception in thread Thread-5:\n",
      "Traceback (most recent call last):\n",
      "  File \"/usr/local/lib/python3.6/threading.py\", line 916, in _bootstrap_inner\n",
      "    self.run()\n",
      "  File \"/usr/local/lib/python3.6/site-packages/epics/ca.py\", line 2016, in run\n",
      "    threading.Thread.run(self)\n",
      "  File \"/usr/local/lib/python3.6/threading.py\", line 864, in run\n",
      "    self._target(*self._args, **self._kwargs)\n",
      "  File \"/usr/local/lib/python3.6/site-packages/pyacal/experiments/base.py\", line 201, in _run\n",
      "    self._target()\n",
      "  File \"/usr/local/lib/python3.6/site-packages/pyacal/experiments/bba.py\", line 1046, in _meas_bba\n",
      "    self._meas_bba_single_bpm(bpm)\n",
      "  File \"/usr/local/lib/python3.6/site-packages/pyacal/experiments/bba.py\", line 1117, in _meas_bba_single_bpm\n",
      "    bpmname, x0+dorbsx[i], y0+dorbsy[i])\n",
      "  File \"/usr/local/lib/python3.6/site-packages/pyacal/experiments/bba.py\", line 155, in correct_orbit_at_bpm\n",
      "    residue=self.params.sofb_maxorberr)\n",
      "TypeError: 'NoneType' object is not iterable\n",
      "\n"
     ]
    }
   ],
   "source": [
    "bba.start()\n"
   ]
  },
  {
   "cell_type": "code",
   "execution_count": 8,
   "metadata": {
    "ExecuteTime": {
     "end_time": "2024-07-02T02:30:08.867626Z",
     "start_time": "2024-07-02T02:30:08.863842Z"
    }
   },
   "outputs": [],
   "source": [
    "bba.stop()\n"
   ]
  }
 ],
 "metadata": {
  "hide_input": false,
  "kernelspec": {
   "display_name": "Python 3 (ipykernel)",
   "language": "python",
   "name": "python3"
  },
  "language_info": {
   "codemirror_mode": {
    "name": "ipython",
    "version": 3
   },
   "file_extension": ".py",
   "mimetype": "text/x-python",
   "name": "python",
   "nbconvert_exporter": "python",
   "pygments_lexer": "ipython3",
   "version": "3.9.2"
  },
  "latex_envs": {
   "LaTeX_envs_menu_present": true,
   "autoclose": false,
   "autocomplete": true,
   "bibliofile": "biblio.bib",
   "cite_by": "apalike",
   "current_citInitial": 1,
   "eqLabelWithNumbers": true,
   "eqNumInitial": 1,
   "hotkeys": {
    "equation": "Ctrl-E",
    "itemize": "Ctrl-I"
   },
   "labels_anchors": false,
   "latex_user_defs": false,
   "report_style_numbering": false,
   "user_envs_cfg": false
  }
 },
 "nbformat": 4,
 "nbformat_minor": 2
}
